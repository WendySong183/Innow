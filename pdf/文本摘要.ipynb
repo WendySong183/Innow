{
 "cells": [
  {
   "cell_type": "code",
   "execution_count": null,
   "metadata": {},
   "outputs": [],
   "source": [
    "pip install textrank4zh"
   ]
  },
  {
   "cell_type": "code",
   "execution_count": 4,
   "metadata": {},
   "outputs": [],
   "source": [
    "import os\n",
    "import pandas as pd\n",
    "import glob\n",
    "import codecs\n",
    "from textrank4zh import TextRank4Keyword, TextRank4Sentence"
   ]
  },
  {
   "cell_type": "code",
   "execution_count": 32,
   "metadata": {},
   "outputs": [],
   "source": [
    "def getAbstract(Thefile):\n",
    "    data=pd.read_excel(Thefile)\n",
    "    summary=[]\n",
    "    for i in range(len(data)):\n",
    "        try:\n",
    "            text = data['textt'][i].replace('\\\\n','')\n",
    "            tr4s = TextRank4Sentence()\n",
    "            tr4s.analyze(text=text, lower=True, source = 'all_filters')    \n",
    "            ans=[]\n",
    "            for item in tr4s.get_key_sentences(num=5):\n",
    "                ans.append(item.sentence.replace(' ',''))\n",
    "        except :\n",
    "            ans=''\n",
    "        summary.append(ans)\n",
    "\n",
    "        \n",
    "        data2 = pd.DataFrame(summary)\n",
    "        dff = pd.concat( [data, data2], axis=1 )\n",
    "        Thefilename='bb2/'+Thefile.split('/')[-1]+'.xlsx'\n",
    "        dff.to_excel(Thefilename)"
   ]
  },
  {
   "cell_type": "code",
   "execution_count": 14,
   "metadata": {},
   "outputs": [],
   "source": [
    "Thefile='/Users/nika/Desktop/text/58  手机浏览器行业报告.xlsx'\n",
    "getAbstract(Thefile)"
   ]
  },
  {
   "cell_type": "code",
   "execution_count": 33,
   "metadata": {},
   "outputs": [],
   "source": [
    "def getAllAbstract(filepath):\n",
    "    answer = []\n",
    "    fileList = os.listdir(filepath)\n",
    "          # 获取path目录下所有文件\n",
    "    for filename in fileList:\n",
    "        print(filename)\n",
    "        pathTmp = os.path.join(filepath,filename)  # 获取path与filename组合后的路径\n",
    "        print(pathTmp)\n",
    "        try:\n",
    "            getAbstract(pathTmp)\n",
    "            print('get')\n",
    "        except Exception as e:\n",
    "            print(e)"
   ]
  },
  {
   "cell_type": "code",
   "execution_count": 35,
   "metadata": {},
   "outputs": [
    {
     "name": "stdout",
     "output_type": "stream",
     "text": [
      "2019年1月报告整理.xlsx\n",
      "/Users/nika/Desktop/未命名文件夹/2019年1月报告整理.xlsx\n",
      "get\n",
      "行业报告.xlsx\n",
      "/Users/nika/Desktop/未命名文件夹/行业报告.xlsx\n",
      "get\n",
      "78  音乐产业报告.xlsx\n",
      "/Users/nika/Desktop/未命名文件夹/78  音乐产业报告.xlsx\n",
      "get\n"
     ]
    }
   ],
   "source": [
    "filepath='/Users/nika/Desktop/未命名文件夹'\n",
    "getphotodetial(filepath)"
   ]
  },
  {
   "cell_type": "code",
   "execution_count": null,
   "metadata": {},
   "outputs": [],
   "source": []
  }
 ],
 "metadata": {
  "kernelspec": {
   "display_name": "Python 3",
   "language": "python",
   "name": "python3"
  },
  "language_info": {
   "codemirror_mode": {
    "name": "ipython",
    "version": 3
   },
   "file_extension": ".py",
   "mimetype": "text/x-python",
   "name": "python",
   "nbconvert_exporter": "python",
   "pygments_lexer": "ipython3",
   "version": "3.7.4"
  }
 },
 "nbformat": 4,
 "nbformat_minor": 2
}
