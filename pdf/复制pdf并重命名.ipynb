{
 "cells": [
  {
   "cell_type": "code",
   "execution_count": 46,
   "metadata": {},
   "outputs": [],
   "source": [
    "import re\n",
    "import pypinyin\n",
    "from pypinyin import pinyin, lazy_pinyin, Style\n",
    "import pandas as pd\n",
    "import shutil\n",
    "import glob"
   ]
  },
  {
   "cell_type": "code",
   "execution_count": 45,
   "metadata": {},
   "outputs": [
    {
     "name": "stdout",
     "output_type": "stream",
     "text": [
      "[Errno 20] Not a directory: '/Users/nika/Desktop/aaa/.DS_Store'\n"
     ]
    }
   ],
   "source": [
    "#另存文件夹，复制pdf，修改名字不为中文\n",
    "def copyphoto(filepath):\n",
    "    fileList = os.listdir(filepath)  # 获取path目录下所有文件\n",
    "    for filename in fileList: \n",
    "        pathTmp = os.path.join(filepath,filename)  # 获取path与filename组合后的路径\n",
    "        try:\n",
    "            filetable = os.listdir(pathTmp)           \n",
    "            minmane = pinyin(pathTmp,style=Style.NORMAL,strict=False)\n",
    "            pname = ''.join([p[0] for p in minmane]).split('/')[-1]\n",
    "            osname=  '/Users/nika/Desktop/2020shangye/'+''.join(re.findall(r'[a-zA-Z0-9]|\\/|\\.|:',pname))\n",
    "            #修改子文件夹的名字\n",
    "\n",
    "            if not os.path.exists(osname):\n",
    "                os.mkdir(osname)#创建子文件夹\n",
    "\n",
    "            for i in filetable:\n",
    "                phptoTmp = os.path.join(pathTmp,i)\n",
    "                minmane2 = pinyin(phptoTmp,style=Style.NORMAL,strict=False)\n",
    "                pname2 = ''.join([p[0] for p in minmane2]).split('/')[-1]\n",
    "                rename=  ''.join(re.findall(r'[a-zA-Z0-9]|\\/|\\.|:',pname2)) \n",
    "                #修改pdf的名字         \n",
    "                shutil.copy(phptoTmp,osname) #复制PDF\n",
    "                os.rename(osname +'/' +i, osname +'/' +rename) #重命名                               \n",
    "        except Exception as e:\n",
    "            print(e)\n",
    "                                \n",
    "filepath = '/Users/nika/Desktop/aaa'\n",
    "copyphoto(filepath)"
   ]
  },
  {
   "cell_type": "code",
   "execution_count": 22,
   "metadata": {},
   "outputs": [],
   "source": [
    "#将pdf统计到excel\n",
    "ans=[]\n",
    "for fileList in os.listdir('/Users/nika/Desktop/2020shangye'):\n",
    "    ans.append(fileList)\n",
    "    \n",
    "df = pd.DataFrame(ans)\n",
    "df.to_excel('chanye.xlsx')"
   ]
  },
  {
   "cell_type": "code",
   "execution_count": 117,
   "metadata": {},
   "outputs": [
    {
     "name": "stderr",
     "output_type": "stream",
     "text": [
      "/Users/nika/opt/anaconda3/lib/python3.7/site-packages/ipykernel_launcher.py:3: FutureWarning: Sorting because non-concatenation axis is not aligned. A future version\n",
      "of pandas will change to not sort by default.\n",
      "\n",
      "To accept the future behavior, pass 'sort=False'.\n",
      "\n",
      "To retain the current behavior and silence the warning, pass 'sort=True'.\n",
      "\n",
      "  This is separate from the ipykernel package so we can avoid doing imports until\n"
     ]
    }
   ],
   "source": [
    "#合并整理后的产业报告excel\n",
    "dflist = [pd.read_excel(fname) for fname in glob.glob('/Users/nika/Desktop/dd2/*.xlsx')]\n",
    "big_df = pd.concat(dflist)\n",
    "big_df['报告类别']='行业深度调研'\n",
    "df_new=big_df.drop(columns=[0,1,2,3,4])\n",
    "df=pd.concat([df_new, df_new['报告原文/原文链接'].str.split('aaa', expand=True)], axis=1)\n",
    "df['new']='sftp://120.55.82.39/opt/dsgn/dockerservices/httpd/htdocs/uploadfile/files/reports/2020shangye'\n",
    "df['报告原文/原文链接']=df['new']+df[1]\n",
    "df.to_excel('产业报告.xlsx',index=False,columns =[\n",
    "    '行业调研题目','技术属性','艺术属性','文化属性','人本属性','商业属性','报告来源','报告类型','摘要','总页数','报告原文/原文链接','报告类别',\n",
    "    #'zy','zy2','textt','0','1','2','3','4'\n",
    "])"
   ]
  }
 ],
 "metadata": {
  "kernelspec": {
   "display_name": "Python 3",
   "language": "python",
   "name": "python3"
  },
  "language_info": {
   "codemirror_mode": {
    "name": "ipython",
    "version": 3
   },
   "file_extension": ".py",
   "mimetype": "text/x-python",
   "name": "python",
   "nbconvert_exporter": "python",
   "pygments_lexer": "ipython3",
   "version": "3.7.4"
  }
 },
 "nbformat": 4,
 "nbformat_minor": 2
}
