{
 "cells": [
  {
   "cell_type": "code",
   "execution_count": 2,
   "metadata": {},
   "outputs": [],
   "source": [
    "from bs4 import BeautifulSoup\n",
    "import requests\n",
    "import os\n",
    "import json\n",
    "import pandas as pd\n",
    "from wordcloud import WordCloud, ImageColorGenerator\n",
    "import imageio\n",
    "import seaborn as sns\n",
    "import matplotlib.pyplot as plt\n",
    "import jieba\n",
    "import collections # 词频统计库"
   ]
  },
  {
   "cell_type": "code",
   "execution_count": 3,
   "metadata": {},
   "outputs": [],
   "source": [
    "#提取某一期的弹幕\n",
    "def get_danmu(num1,num2,page):\n",
    "    url='https://bullet-ws.hitv.com/bullet/2020/06/23/{}/{}/{}.json'\n",
    "    danmuurl = url.format(num1,num2,page)\n",
    "    res=requests.get(danmuurl)\n",
    "    res.encoding = 'utf-8'\n",
    "    jd=json.loads(res.text)\n",
    "    details=[]\n",
    "    for i in range(len(jd['data']['items'])):\n",
    "        result={}\n",
    "        result['stype']=num2\n",
    "        result['id']=jd['data']['items'][i]['id']\n",
    "        try:\n",
    "            result['uname']=jd['data']['items'][i]['uname']\n",
    "        except:\n",
    "            result['uname']=''\n",
    "        result['content']=jd['data']['items'][i]['content']\n",
    "        result['time']=jd['data']['items'][i]['time']\n",
    "        try:\n",
    "            result['v2_up_count']=jd['data']['items'][i]['v2_up_count']\n",
    "        except:\n",
    "            result['v2_up_count']=''\n",
    "        details.append(result)\n",
    "    \n",
    "    \n",
    "    return details"
   ]
  },
  {
   "cell_type": "code",
   "execution_count": 4,
   "metadata": {},
   "outputs": [],
   "source": [
    "#输入关键信息\n",
    "def count_danmu():\n",
    "    danmu_total=[]\n",
    "    num1=input('第一个数字')\n",
    "    num2=input('第二个数字')\n",
    "    page=int(input('输入总时长'))\n",
    "    for i in range(page):\n",
    "        danmu_total.extend(get_danmu(num1,num2,i))\n",
    "        \n",
    "    return danmu_total"
   ]
  },
  {
   "cell_type": "code",
   "execution_count": null,
   "metadata": {},
   "outputs": [],
   "source": [
    "def main():\n",
    "    danmu_end=[]\n",
    "    for j in range(4):\n",
    "        danmu_end.extend(count_danmu())\n",
    "    df=pd.DataFrame(danmu_end)\n",
    "    df.to_excel('danmu.xlsx')\n",
    "\n",
    "    \n",
    "if __name__ == '__main__':\n",
    "    main()"
   ]
  },
  {
   "cell_type": "markdown",
   "metadata": {},
   "source": [
    "6.23前四集的参数\n",
    "095353,8337559,101\n",
    "135229,8339494,134\n",
    "135223,8398205,100\n",
    "121038,8437644,35"
   ]
  }
 ],
 "metadata": {
  "kernelspec": {
   "display_name": "Python 3",
   "language": "python",
   "name": "python3"
  },
  "language_info": {
   "codemirror_mode": {
    "name": "ipython",
    "version": 3
   },
   "file_extension": ".py",
   "mimetype": "text/x-python",
   "name": "python",
   "nbconvert_exporter": "python",
   "pygments_lexer": "ipython3",
   "version": "3.7.4"
  }
 },
 "nbformat": 4,
 "nbformat_minor": 2
}
