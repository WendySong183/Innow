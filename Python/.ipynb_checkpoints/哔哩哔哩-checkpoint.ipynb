{
 "cells": [
  {
   "cell_type": "code",
   "execution_count": 74,
   "metadata": {},
   "outputs": [],
   "source": [
    "from bs4 import BeautifulSoup\n",
    "import requests\n",
    "import os\n",
    "import json\n",
    "from datetime import datetime\n",
    "import pandas as pd\n",
    "import time\n",
    "import re"
   ]
  },
  {
   "cell_type": "code",
   "execution_count": 141,
   "metadata": {},
   "outputs": [],
   "source": [
    "def main():\n",
    "    url = 'https://www.bilibili.com/ranking/all/1/0/3'\n",
    "    res=requests.get(url)\n",
    "    res.encoding = 'utf-8'\n",
    "    soup = BeautifulSoup(res.text,'html.parser')\n",
    "    \n",
    "    href=[]\n",
    "    title=[]\n",
    "    danmu =[]\n",
    "    upzhu =[]\n",
    "    fenshu =[]\n",
    "    play =[]\n",
    "    rank =[]\n",
    "    date = []\n",
    "    for i in range(len(soup.select('.title '))):\n",
    "        try :\n",
    "            href.append(soup.select('.title')[i]['href'])#链接\n",
    "            title.append(soup.select('.title')[i].text)\n",
    "        except:\n",
    "            continue\n",
    "\n",
    "    for i in range(len(soup.select('.pts '))):\n",
    "        play.append(soup.select('.data-box ')[3*i].text)#播放\n",
    "        danmu.append(soup.select('.data-box ')[3*i+1].text)#弹幕\n",
    "        upzhu.append(soup.select('.data-box ')[3*i+2].text)#up主\n",
    "        fenshu.append(soup.select('.pts div')[i].text)#综合得分\n",
    "        rank.append(i+1)#排名\n",
    "        date.append(datetime.now().strftime('%Y-%m-%d'))#日期\n",
    "        \n",
    "        \n",
    "    df=pd.DataFrame({'排名':rank,'标题':title,'链接':href,'播放':play,'弹幕':danmu,'up主':upzhu,'综合得分':fenshu,'日期':date})\n",
    "    now = datetime.now().strftime('%m%d_%H%M%S')\n",
    "    newsname = 'bilibili'+now+'.xlsx'\n",
    "    df.to_excel(newsname)"
   ]
  },
  {
   "cell_type": "code",
   "execution_count": 142,
   "metadata": {},
   "outputs": [],
   "source": [
    "if __name__ == '__main__':\n",
    "    main()"
   ]
  },
  {
   "cell_type": "code",
   "execution_count": null,
   "metadata": {},
   "outputs": [],
   "source": []
  }
 ],
 "metadata": {
  "kernelspec": {
   "display_name": "Python 3",
   "language": "python",
   "name": "python3"
  },
  "language_info": {
   "codemirror_mode": {
    "name": "ipython",
    "version": 3
   },
   "file_extension": ".py",
   "mimetype": "text/x-python",
   "name": "python",
   "nbconvert_exporter": "python",
   "pygments_lexer": "ipython3",
   "version": "3.7.4"
  }
 },
 "nbformat": 4,
 "nbformat_minor": 2
}
