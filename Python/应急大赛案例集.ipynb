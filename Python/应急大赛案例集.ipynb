{
 "cells": [
  {
   "cell_type": "code",
   "execution_count": 1,
   "metadata": {},
   "outputs": [],
   "source": [
    "import os\n",
    "from PIL import Image\n",
    "import glob\n",
    "import shutil\n",
    "import pandas as pd\n",
    "import zipfile"
   ]
  },
  {
   "cell_type": "code",
   "execution_count": 2,
   "metadata": {},
   "outputs": [],
   "source": [
    "def copyPHotos(filepath):\n",
    "    fileList = os.listdir(filepath)  # 获取path目录下所有文件\n",
    "    count=0\n",
    "    for files in fileList: \n",
    "        fileTmp = os.path.join(filepath,files)  # 获取path与filename组合后的路径\n",
    "        if os.path.isdir(fileTmp):#如果是文件夹，就再执行一次函数\n",
    "            copyPHotos(fileTmp)\n",
    "        else: \n",
    "            try:\n",
    "                if(fileTmp.lower().endswith(('.png', '.jpg', '.jpeg','.gif','.psd','pdf' ))):#筛选需要的后缀\n",
    "                    count +=1#计数\n",
    "                    rename=fileTmp.split('/')[5]+'_'+str(count)+'.'+fileTmp.split('.')[-1]#设置重命名，文件夹名字+计数\n",
    "                    shutil.copy(fileTmp,d)#复制到新路径\n",
    "                    os.rename(d +'/' +fileTmp.split('/')[-1], d +'/' +rename)#重命名复制好的图片\n",
    "\n",
    "\n",
    "            except Exception as e:\n",
    "                print(e)"
   ]
  },
  {
   "cell_type": "code",
   "execution_count": null,
   "metadata": {},
   "outputs": [],
   "source": [
    "d='/Users/nika/Desktop/zipp'#要复制到的文件夹\n",
    "filepath='/Users/nika/Desktop/ppp'#复制的原文件\n",
    "copyPHotos(filepath)"
   ]
  },
  {
   "cell_type": "code",
   "execution_count": 9,
   "metadata": {},
   "outputs": [],
   "source": [
    "df=pd.read_excel('/Users/nika/Desktop/none.xlsx')"
   ]
  },
  {
   "cell_type": "code",
   "execution_count": 14,
   "metadata": {},
   "outputs": [
    {
     "name": "stdout",
     "output_type": "stream",
     "text": [
      "/Users/nika/Desktop/xqt/48037_1.jpg\n",
      "/Users/nika/Desktop/xqt/50569_1.pdf\n",
      "/Users/nika/Desktop/xqt/47041_1.jpg\n",
      "/Users/nika/Desktop/xqt/50512_1.jpg\n",
      "/Users/nika/Desktop/xqt/49479_1.jpg\n",
      "/Users/nika/Desktop/xqt/49968_1.jpg\n",
      "/Users/nika/Desktop/xqt/50792_1.pdf\n",
      "/Users/nika/Desktop/xqt/48566_1.jpg\n",
      "/Users/nika/Desktop/xqt/45234_1.png\n",
      "/Users/nika/Desktop/xqt/49356_1.jpg\n",
      "/Users/nika/Desktop/xqt/48132_1.jpg\n",
      "/Users/nika/Desktop/xqt/46733_1.jpg\n",
      "/Users/nika/Desktop/xqt/45037_1.jpg\n",
      "/Users/nika/Desktop/xqt/47005_1.jpg\n",
      "/Users/nika/Desktop/xqt/44828_1.jpg\n",
      "/Users/nika/Desktop/xqt/48624_1.jpg\n",
      "/Users/nika/Desktop/xqt/45187_1.jpg\n",
      "/Users/nika/Desktop/xqt/49471_1.jpg\n",
      "/Users/nika/Desktop/xqt/45428_1.jpg\n",
      "/Users/nika/Desktop/xqt/46427_1.jpg\n",
      "/Users/nika/Desktop/xqt/46914_1.psd\n",
      "/Users/nika/Desktop/xqt/45359_1.jpg\n",
      "/Users/nika/Desktop/xqt/50274_1.jpg\n",
      "/Users/nika/Desktop/xqt/49144_1.pdf\n",
      "/Users/nika/Desktop/xqt/48980_1.jpg\n",
      "/Users/nika/Desktop/xqt/44045_1.png\n",
      "/Users/nika/Desktop/xqt/45413_1.jpg\n",
      "/Users/nika/Desktop/xqt/50071_1.pdf\n",
      "/Users/nika/Desktop/xqt/45757_1.jpg\n",
      "/Users/nika/Desktop/xqt/48064_1.jpg\n",
      "/Users/nika/Desktop/xqt/50089_1.pdf\n",
      "/Users/nika/Desktop/xqt/48668_1.pdf\n",
      "/Users/nika/Desktop/xqt/49006_1.jpg\n",
      "/Users/nika/Desktop/xqt/47194_1.pdf\n",
      "/Users/nika/Desktop/xqt/47033_1.jpg\n"
     ]
    }
   ],
   "source": [
    "#筛选有问题的文件，存档到新的文件夹\n",
    "filepath='/Users/nika/Desktop/xqt'\n",
    "copypath='/Users/nika/Desktop/question'\n",
    "fileList = os.listdir(filepath)  # 获取path目录下所有文件\n",
    "for files in fileList:\n",
    "    for i in range(len(df)):\n",
    "        if files == str(df['file'][i]):\n",
    "            pathTmp = os.path.join(filepath,files)\n",
    "            print(pathTmp)\n",
    "            shutil.copytree(pathTmp,copypath+'/'+pathTmp)"
   ]
  },
  {
   "cell_type": "code",
   "execution_count": 16,
   "metadata": {},
   "outputs": [
    {
     "name": "stdout",
     "output_type": "stream",
     "text": [
      "cannot identify image file '/Users/nika/Desktop/ss/.DS_Store'\n"
     ]
    }
   ],
   "source": [
    "#按比例压缩图片\n",
    "import math\n",
    "\n",
    "def convertjpg(jpgfile,outdir):\n",
    "    try:\n",
    "        img=Image.open(jpgfile)\n",
    "        width = 280\n",
    "        height= math.ceil(Image.open(jpgfile).height/Image.open(jpgfile).width*280)\n",
    "        new_img=img.resize((width,height),Image.BILINEAR)   \n",
    "        new_img.save(os.path.join(outdir,os.path.basename(jpgfile)))\n",
    "    except Exception as e:\n",
    "        print(e)\n",
    "\n",
    "\n",
    "        \n",
    "def zipphoto(filepath):\n",
    "    fileList = os.listdir(filepath)  # 获取path目录下所有文件\n",
    "    for filename in fileList: \n",
    "        pathTmp = os.path.join(filepath,filename)  # 获取path与filename组合后的路径\n",
    "        if os.path.isdir(pathTmp):\n",
    "            zipphoto(pathTmp)\n",
    "        else:\n",
    "            convertjpg(pathTmp,c)\n",
    "            \n",
    "filepath = '/Users/nika/Desktop/ss'\n",
    "c='/Users/nika/Desktop/sbb'\n",
    "zipphoto(filepath)"
   ]
  },
  {
   "cell_type": "code",
   "execution_count": null,
   "metadata": {},
   "outputs": [],
   "source": [
    "#将pdf统计到excel\n",
    "ans=[]\n",
    "for fileList in os.listdir(c):\n",
    "    ans.append(fileList)\n",
    "    \n",
    "df = pd.DataFrame(ans)\n",
    "df.to_excel('photoszip2.xlsx')"
   ]
  },
  {
   "cell_type": "code",
   "execution_count": null,
   "metadata": {},
   "outputs": [],
   "source": [
    "#批量解压缩zip文件\n",
    "def zipFiles(filepath):\n",
    "    fileList = os.listdir(filepath)  # 获取path目录下所有文件\n",
    "    for files in fileList: \n",
    "        fileTmp = os.path.join(filepath,files)  # 获取path与filename组合后的路径,子文件夹\n",
    "        try:\n",
    "            photoList=os.listdir(fileTmp)\n",
    "            for photoname in photoList:               \n",
    "                photoTmp = os.path.join(fileTmp,photoname)  # 获取path与filename组合后的路径               \n",
    "                if(photoTmp.lower().endswith(('.zip'))):\n",
    "                    zFile = zipfile.ZipFile(photoTmp, \"r\")\n",
    "                    for fileM in zFile.namelist(): \n",
    "                        zFile.extract(fileM, fileTmp)\n",
    "                           \n",
    "        except Exception as e:\n",
    "            print(e)\n",
    "            \n",
    "filepath='/Users/nika/Desktop/ppp'\n",
    "zipFiles(filepath)"
   ]
  }
 ],
 "metadata": {
  "kernelspec": {
   "display_name": "Python 3",
   "language": "python",
   "name": "python3"
  },
  "language_info": {
   "codemirror_mode": {
    "name": "ipython",
    "version": 3
   },
   "file_extension": ".py",
   "mimetype": "text/x-python",
   "name": "python",
   "nbconvert_exporter": "python",
   "pygments_lexer": "ipython3",
   "version": "3.7.4"
  }
 },
 "nbformat": 4,
 "nbformat_minor": 2
}
