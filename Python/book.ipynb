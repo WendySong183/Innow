{
 "cells": [
  {
   "cell_type": "code",
   "execution_count": 1,
   "metadata": {},
   "outputs": [
    {
     "name": "stdout",
     "output_type": "stream",
     "text": [
      "Collecting pynput\n",
      "\u001b[?25l  Downloading https://files.pythonhosted.org/packages/33/0a/ea13c055a90b1aff5945e7eb330584f15e5282aead15a8f3cdb977a1534e/pynput-1.6.8-py2.py3-none-any.whl (91kB)\n",
      "\u001b[K     |████████████████████████████████| 92kB 5.1kB/s eta 0:00:02\n",
      "\u001b[?25hCollecting pyobjc-framework-Quartz>=3.0; sys_platform == \"darwin\" (from pynput)\n",
      "\u001b[?25l  Downloading https://files.pythonhosted.org/packages/2f/f9/712575264179f93329e9ff93dca3e612879a8a382fe9974fe3f41a1e06ca/pyobjc_framework_Quartz-6.2.2-cp37-cp37m-macosx_10_9_x86_64.whl (138kB)\n",
      "\u001b[K     |████████████████████████████████| 143kB 3.7kB/s eta 0:00:02\n",
      "\u001b[?25hRequirement already satisfied: six in /Users/nika/opt/anaconda3/lib/python3.7/site-packages (from pynput) (1.12.0)\n",
      "Collecting pyobjc-core>=6.2.2 (from pyobjc-framework-Quartz>=3.0; sys_platform == \"darwin\"->pynput)\n",
      "\u001b[?25l  Downloading https://files.pythonhosted.org/packages/8c/a9/e3f753b4ab3fa02058ee0ca8642856fbdeb399eafda884f02b76351574b3/pyobjc_core-6.2.2-cp37-cp37m-macosx_10_9_x86_64.whl (292kB)\n",
      "\u001b[K     |████████████████████████████████| 296kB 8.2kB/s eta 0:00:01\n",
      "\u001b[?25hCollecting pyobjc-framework-Cocoa>=6.2.2 (from pyobjc-framework-Quartz>=3.0; sys_platform == \"darwin\"->pynput)\n",
      "\u001b[?25l  Downloading https://files.pythonhosted.org/packages/90/8e/4c568a602d5018441b87be7528be77fdd237857a7cace52671e3e9a66037/pyobjc_framework_Cocoa-6.2.2-cp37-cp37m-macosx_10_9_x86_64.whl (276kB)\n",
      "\u001b[K     |████████████████████████████████| 286kB 7.8kB/s eta 0:00:011\n",
      "\u001b[?25hInstalling collected packages: pyobjc-core, pyobjc-framework-Cocoa, pyobjc-framework-Quartz, pynput\n",
      "Successfully installed pynput-1.6.8 pyobjc-core-6.2.2 pyobjc-framework-Cocoa-6.2.2 pyobjc-framework-Quartz-6.2.2\n",
      "Note: you may need to restart the kernel to use updated packages.\n"
     ]
    }
   ],
   "source": [
    "pip install pynput"
   ]
  },
  {
   "cell_type": "code",
   "execution_count": null,
   "metadata": {},
   "outputs": [],
   "source": [
    "import pynput\n",
    "from pynput.keyboard import Controller, Key, Listener\n",
    "from pynput.mouse import Button\n",
    "\n",
    "\n",
    "def on_click(x, y, button, pressed):\n",
    "    kb = Controller()\n",
    "    kb.press(Key.ctrl)\n",
    "    kb.press(Key.alt)\n",
    "    kb.press('.')\n",
    "    kb.release(Key.ctrl)\n",
    "    kb.release(Key.alt)\n",
    "    kb.release('.')\n",
    "    kb.pressed(Key.ctrl,Key.alt,'.')\n",
    "    if button == Button.right:\n",
    "        print(\"关闭\")\n",
    "        return False\n",
    "with pynput.mouse.Listener(\n",
    "        on_click=on_click,) as listener:\n",
    "    listener.join()\n"
   ]
  },
  {
   "cell_type": "code",
   "execution_count": null,
   "metadata": {},
   "outputs": [],
   "source": []
  }
 ],
 "metadata": {
  "kernelspec": {
   "display_name": "Python 3",
   "language": "python",
   "name": "python3"
  },
  "language_info": {
   "codemirror_mode": {
    "name": "ipython",
    "version": 3
   },
   "file_extension": ".py",
   "mimetype": "text/x-python",
   "name": "python",
   "nbconvert_exporter": "python",
   "pygments_lexer": "ipython3",
   "version": "3.7.4"
  }
 },
 "nbformat": 4,
 "nbformat_minor": 2
}
