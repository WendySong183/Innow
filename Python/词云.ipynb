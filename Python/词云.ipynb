{
 "cells": [
  {
   "cell_type": "code",
   "execution_count": 1,
   "metadata": {},
   "outputs": [],
   "source": [
    "import pandas as pd\n",
    "import jieba\n",
    "import stylecloud\n",
    "\n",
    "from IPython.display import Image "
   ]
  },
  {
   "cell_type": "code",
   "execution_count": 2,
   "metadata": {},
   "outputs": [],
   "source": [
    "# 定义分词函数\n",
    "def get_cut_words(content_series):\n",
    "    # 读入停用词表\n",
    "    stop_words = [] \n",
    "    \n",
    "    with open(\"/Users/nika/Downloads/stop_words.txt\", 'r', encoding='utf-8') as f:\n",
    "        lines = f.readlines()\n",
    "        for line in lines:\n",
    "            stop_words.append(line.strip())\n",
    "\n",
    "    # 添加关键词\n",
    "    my_words = ['秦昊', '张东升', '王景春', '陈冠声', '荣梓杉',\n",
    "                '朱朝阳', '史彭元', '严良', '王圣迪', '普普',\n",
    "                '岳普', '张颂文', '朱永平', '十二集', '十二万',\n",
    "                '十二时辰']  \n",
    "    \n",
    "    for i in my_words:\n",
    "        jieba.add_word(i) \n",
    "\n",
    "    # 自定义停用词\n",
    "    my_stop_words = ['真的', '这部', '这是', '一种', '那种',\n",
    "                    '哈哈哈']   \n",
    "    stop_words.extend(my_stop_words)               \n",
    "\n",
    "    # 分词\n",
    "    word_num = jieba.lcut(content_series.str.cat(sep='。'), cut_all=False)\n",
    "\n",
    "    # 条件筛选\n",
    "    word_num_selected = [i for i in word_num if i not in stop_words and len(i)>=2]\n",
    "    \n",
    "    return word_num_selected"
   ]
  },
  {
   "cell_type": "code",
   "execution_count": 6,
   "metadata": {},
   "outputs": [],
   "source": [
    "#绘制词云图\n",
    "def get_cloud(df,name,kind,color):\n",
    "    text_cut = get_cut_words(df.content[df.content.str.contains(name)])\n",
    "    stylecloud.gen_stylecloud(text=' '.join(text_cut), \n",
    "                          collocations=False,\n",
    "                          font_path='/Library/Fonts/Songti.ttc',\n",
    "                          icon_name=kind,#图形选择\n",
    "                          palette=color,#颜色选择\n",
    "                          size=653,\n",
    "                          output_name=name+'.png')\n",
    "    return Image(filename=name+'.png')"
   ]
  },
  {
   "cell_type": "code",
   "execution_count": 7,
   "metadata": {},
   "outputs": [
    {
     "name": "stdout",
     "output_type": "stream",
     "text": [
      "请输入文件地址：/Users/nika/InnowWork/Innow/Python/jiaoluo.xlsx\n",
      "请输入主角名字：严良\n",
      "请输入图形形状：ship\n",
      "请输入颜色：cmocean.sequential.Algae_17\n"
     ]
    },
    {
     "name": "stderr",
     "output_type": "stream",
     "text": [
      "Building prefix dict from the default dictionary ...\n",
      "Loading model from cache /var/folders/5s/rpchc4zs34129kgh3lsj0g_h0000gn/T/jieba.cache\n",
      "Loading model cost 0.694 seconds.\n",
      "Prefix dict has been built successfully.\n"
     ]
    }
   ],
   "source": [
    "def main():\n",
    "    url=input('请输入文件地址：')\n",
    "    df=pd.read_excel(url)\n",
    "    df['content'] = df.contents.astype('str')\n",
    "    name=input('请输入主角名字：')\n",
    "    kind='fas fa-'+input('请输入图形形状：')\n",
    "    color=input('请输入颜色：')\n",
    "    get_cloud(df,name,kind,color)\n",
    "\n",
    "    \n",
    "if __name__ == '__main__':\n",
    "    main()\n"
   ]
  },
  {
   "cell_type": "code",
   "execution_count": null,
   "metadata": {},
   "outputs": [],
   "source": []
  }
 ],
 "metadata": {
  "kernelspec": {
   "display_name": "Python 3",
   "language": "python",
   "name": "python3"
  },
  "language_info": {
   "codemirror_mode": {
    "name": "ipython",
    "version": 3
   },
   "file_extension": ".py",
   "mimetype": "text/x-python",
   "name": "python",
   "nbconvert_exporter": "python",
   "pygments_lexer": "ipython3",
   "version": "3.7.4"
  }
 },
 "nbformat": 4,
 "nbformat_minor": 2
}
