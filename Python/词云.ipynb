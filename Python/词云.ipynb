{
 "cells": [
  {
   "cell_type": "code",
   "execution_count": 8,
   "metadata": {},
   "outputs": [],
   "source": [
    "import pandas as pd\n",
    "import jieba\n",
    "import stylecloud\n",
    "\n",
    "from IPython.display import Image "
   ]
  },
  {
   "cell_type": "code",
   "execution_count": 9,
   "metadata": {},
   "outputs": [],
   "source": [
    "# 定义分词函数\n",
    "def get_cut_words(content_series):\n",
    "    # 读入停用词表\n",
    "    stop_words = [] \n",
    "    \n",
    "    with open(\"/Users/nika/Downloads/stop_words.txt\", 'r', encoding='utf-8') as f:\n",
    "        lines = f.readlines()\n",
    "        for line in lines:\n",
    "            stop_words.append(line.strip())\n",
    "\n",
    "    # 添加关键词\n",
    "    my_words = ['秦昊', '张东升', '王景春', '陈冠声', '荣梓杉',\n",
    "                '朱朝阳', '史彭元', '严良', '王圣迪', '普普',\n",
    "                '岳普', '张颂文', '朱永平', '十二集', '十二万',\n",
    "                '十二时辰']  \n",
    "    \n",
    "    for i in my_words:\n",
    "        jieba.add_word(i) \n",
    "\n",
    "    # 自定义停用词\n",
    "    my_stop_words = ['真的', '这部', '这是', '一种', '那种',\n",
    "                    '哈哈哈']   \n",
    "    stop_words.extend(my_stop_words)               \n",
    "\n",
    "    # 分词\n",
    "    word_num = jieba.lcut(content_series.str.cat(sep='。'), cut_all=False)\n",
    "\n",
    "    # 条件筛选\n",
    "    word_num_selected = [i for i in word_num if i not in stop_words and len(i)>=2]\n",
    "    \n",
    "    return word_num_selected"
   ]
  },
  {
   "cell_type": "code",
   "execution_count": 29,
   "metadata": {},
   "outputs": [],
   "source": [
    "#绘制词云图\n",
    "def get_cloud(df,name,kind,color):\n",
    "    text_cut = get_cut_words(df.content[df.content.str.contains(name)])\n",
    "    stylecloud.gen_stylecloud(text=' '.join(text_cut), \n",
    "                          collocations=False,\n",
    "                          font_path='/Library/Fonts/Songti.ttc',\n",
    "                          icon_name=kind,#图形选择\n",
    "                          palette=color,#颜色选择\n",
    "                          size=653,\n",
    "                          output_name=name+'.png')\n",
    "    "
   ]
  },
  {
   "cell_type": "code",
   "execution_count": 11,
   "metadata": {},
   "outputs": [
    {
     "name": "stdout",
     "output_type": "stream",
     "text": [
      "请输入文件地址：/Users/nika/InnowWork/Innow/Python/jiaoluo.xlsx\n",
      "请输入主角名字：张东升\n",
      "请输入图形形状：mountain\n",
      "请输入颜色：cmocean.sequential.Algae_17\n"
     ]
    }
   ],
   "source": [
    "def main():\n",
    "    url=input('请输入文件地址：')\n",
    "    df=pd.read_excel(url)\n",
    "    df['content'] = df.contents.astype('str')\n",
    "    name=input('请输入主角名字：')\n",
    "    kind='fas fa-'+input('请输入图形形状：')\n",
    "    color=input('请输入颜色：')\n",
    "    get_cloud(df,name,kind,color)\n",
    "\n",
    "    \n",
    "if __name__ == '__main__':\n",
    "    main()\n"
   ]
  },
  {
   "cell_type": "code",
   "execution_count": 12,
   "metadata": {},
   "outputs": [],
   "source": [
    "import tkinter as tk"
   ]
  },
  {
   "cell_type": "code",
   "execution_count": 30,
   "metadata": {},
   "outputs": [],
   "source": [
    "from tkinter import *\n",
    "from PIL import Image,ImageTk\n",
    "\n",
    "#设置tkinter窗口\n",
    "root = Tk()\n",
    "root.title('词云')\n",
    "root.geometry('800x800')\n",
    "#绘制两个label,grid（）确定行列\n",
    "Label(root,text=\"请输入文件地址：\").grid(row = 0,column =0)\n",
    "Label(root,text=\"请输入主角名字（多个名字请用|隔开）：\").grid(row = 1,column =0)\n",
    "Label(root,text=\"请输入图形形状（https://fa5.dashgame.com/）：\").grid(row = 2,column =0)\n",
    "Label(root,text=\"请输入颜色（https://jiffyclub.github.io/palettable/）：\").grid(row = 3,column =0)\n",
    "\n",
    "global img\n",
    "#导入两个输入框\n",
    "e1 = Entry(root)\n",
    "e2 = Entry(root)\n",
    "e3 = Entry(root)\n",
    "e4 = Entry(root)\n",
    "\n",
    "#设置输入框的位置\n",
    "e1.grid(row =0 ,column =1)\n",
    "e2.grid(row =1 ,column =1)\n",
    "e3.grid(row =2 ,column =1)\n",
    "e4.grid(row =3 ,column =1)\n",
    "\n",
    "#输入内容获取函数print打印\n",
    "def show():\n",
    "    url=e1.get()\n",
    "    df=pd.read_excel(url)\n",
    "    df['content'] = df.contents.astype('str')\n",
    "    name=e2.get()\n",
    "    kind='fas fa-'+e3.get()\n",
    "    color=e4.get()\n",
    "    get_cloud(df,name,kind,color)\n",
    "    \n",
    "    img_open = Image.open(name+'.png')\n",
    "    img=ImageTk.PhotoImage(img_open)\n",
    "    imglabel = Label(root, image=img)\n",
    "    imglabel.grid(row=7, column=0, columnspan=3)\n",
    "\n",
    "\n",
    "    \n",
    "\n",
    "#清除函数，清除输入框的内容\n",
    "def dele():\n",
    "    e2.delete(0,END)\n",
    "    e3.delete(0,END)\n",
    "    e4.delete(0,END)\n",
    "    \n",
    "    \n",
    "\n",
    "#设置两个按钮，点击按钮执行命令 command= 命令函数\n",
    "theButton1 = Button(root, text =\"获取图片\", width =10,command =show)\n",
    "theButton2 = Button(root, text =\"清除\",width =10,command =dele)\n",
    "\n",
    "#设置按钮的位置行列及大小\n",
    "theButton1.grid(row =4 ,column =0,sticky =W, padx=10,pady =5)\n",
    "theButton2.grid(row =4 ,column =1,sticky =E, padx=10,pady =5)\n",
    "\n",
    "\n",
    "\n",
    "mainloop()"
   ]
  },
  {
   "cell_type": "code",
   "execution_count": null,
   "metadata": {},
   "outputs": [],
   "source": []
  },
  {
   "cell_type": "code",
   "execution_count": null,
   "metadata": {},
   "outputs": [],
   "source": []
  }
 ],
 "metadata": {
  "kernelspec": {
   "display_name": "Python 3",
   "language": "python",
   "name": "python3"
  }
 },
 "nbformat": 4,
 "nbformat_minor": 2
}
