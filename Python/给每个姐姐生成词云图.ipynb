{
 "cells": [
  {
   "cell_type": "code",
   "execution_count": 1,
   "metadata": {},
   "outputs": [],
   "source": [
    "import json\n",
    "import pandas as pd\n",
    "from wordcloud import WordCloud, ImageColorGenerator\n",
    "import imageio\n",
    "import seaborn as sns\n",
    "import matplotlib.pyplot as plt\n",
    "import jieba\n",
    "import collections # 词频统计库"
   ]
  },
  {
   "cell_type": "code",
   "execution_count": 12,
   "metadata": {},
   "outputs": [],
   "source": [
    "#画1个词云图\n",
    "def get_photo(name):\n",
    "    \n",
    "    #设置停止词\n",
    "    stop_words = []    \n",
    "    with open(r\"/Users/nika/Desktop/jiejie/chineseStopWords.txt\") as f:\n",
    "        lines = f.readlines()\n",
    "        for line in lines:\n",
    "            stop_words.append(line.strip())\n",
    "    #自定义停止词\n",
    "    my_stop_words = ['第一期', '一堆', '三个', '真的', '哈哈哈', '哈哈哈哈', '啊啊啊']    \n",
    "    stop_words.extend(my_stop_words)  \n",
    "    \n",
    "    #分词\n",
    "    dff_sel = dff[dff.content.str.contains(name)]\n",
    "    seg_list_exact = jieba.cut(dff_sel['content'].str.cat(sep='。'), cut_all=False) # 精确模式分词\n",
    "    object_list = []\n",
    "    for word in seg_list_exact: # 循环读出每个分词\n",
    "        if word not in stop_words: # 如果不在去除词库中\n",
    "            object_list.append(word) # 分词追加到列表\n",
    "\n",
    "    word_counts = collections.Counter(object_list) # 对分词做词频统计\n",
    "    \n",
    "    #读取背景图片\n",
    "    re_pic='/Users/nika/Desktop/jiejie/'+name+'.png'\n",
    "    mk = imageio.imread(re_pic)\n",
    "    wordcloud = WordCloud(background_color='white',\n",
    "                          #设置字体为中文字体！！！\n",
    "                          font_path=\"/Library/Fonts/Songti.ttc\",\n",
    "                          #设置清晰度\n",
    "                          scale=15,mask=mk,stopwords=stop_words).generate_from_frequencies(word_counts) # 从字典生成词云\n",
    "    image_colors = ImageColorGenerator(mk)\n",
    "    #将图片颜色应用到词云中\n",
    "    wc_color = wordcloud.recolor(color_func=image_colors)\n",
    "    new_pic='/Users/nika/Desktop/jiejie/'+'new_'+name+'.png'\n",
    "    #保存图片\n",
    "    wc_color.to_file(new_pic)\n",
    "    plt.imshow(wc_color)"
   ]
  },
  {
   "cell_type": "code",
   "execution_count": 19,
   "metadata": {},
   "outputs": [
    {
     "data": {
      "image/png": "[encoded data removed]",
      "text/plain": [
       "<Figure size 432x288 with 1 Axes>"
      ]
     },
     "metadata": {
      "needs_background": "light"
     },
     "output_type": "display_data"
    }
   ],
   "source": [
    "dff=pd.read_excel('danmu.xlsx')\n",
    "dff['content'] = dff.content.astype('str')\n",
    "name='手机'\n",
    "get_photo(name)"
   ]
  },
  {
   "cell_type": "code",
   "execution_count": null,
   "metadata": {},
   "outputs": [],
   "source": [
    "#给每个姐姐画\n",
    "dff=pd.read_excel('danmu.xlsx')\n",
    "dff['content'] = dff.content.astype('str')\n",
    "my_words_list =['袁咏琳','朱婧汐','钟丽缇','王智','沈梦辰','陈松伶','阿朵','白冰','海陆','刘芸','孟佳','金莎','伊能静','王霏霏','许飞','张萌',\n",
    "                '黄龄','吴昕','金晨','王丽坤','李斯丹妮','蓝盈莹','张含韵','郑希怡','宁静','郁可唯','黄圣依','丁当','万茜','张雨绮']\n",
    "\n",
    "for name in my_words_list:\n",
    "    get_photo(name)"
   ]
  }
 ],
 "metadata": {
  "kernelspec": {
   "display_name": "Python 3",
   "language": "python",
   "name": "python3"
  },
  "language_info": {
   "codemirror_mode": {
    "name": "ipython",
    "version": 3
   },
   "file_extension": ".py",
   "mimetype": "text/x-python",
   "name": "python",
   "nbconvert_exporter": "python",
   "pygments_lexer": "ipython3",
   "version": "3.7.4"
  }
 },
 "nbformat": 4,
 "nbformat_minor": 2
}
