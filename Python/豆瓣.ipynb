{
 "cells": [
  {
   "cell_type": "code",
   "execution_count": 1,
   "metadata": {},
   "outputs": [],
   "source": [
    "from bs4 import BeautifulSoup\n",
    "import requests\n",
    "import os\n",
    "import json\n",
    "import pandas as pd\n",
    "from wordcloud import WordCloud, ImageColorGenerator\n",
    "import imageio\n",
    "import seaborn as sns\n",
    "import matplotlib.pyplot as plt\n",
    "import jieba\n",
    "import collections # 词频统计库"
   ]
  },
  {
   "cell_type": "code",
   "execution_count": 2,
   "metadata": {},
   "outputs": [],
   "source": [
    "url = 'https://s.weibo.com/ajax/topsuggest.php?key=%E8%AE%BE%E8%AE%A1&_k=159460518153013&uid=&_t=1&_v=STK_159460518153014'"
   ]
  },
  {
   "cell_type": "code",
   "execution_count": 3,
   "metadata": {},
   "outputs": [
    {
     "ename": "NameError",
     "evalue": "name 'headers' is not defined",
     "output_type": "error",
     "traceback": [
      "\u001b[0;31m---------------------------------------------------------------------------\u001b[0m",
      "\u001b[0;31mNameError\u001b[0m                                 Traceback (most recent call last)",
      "\u001b[0;32m<ipython-input-3-351d95e5755c>\u001b[0m in \u001b[0;36m<module>\u001b[0;34m\u001b[0m\n\u001b[0;32m----> 1\u001b[0;31m \u001b[0mres\u001b[0m \u001b[0;34m=\u001b[0m \u001b[0mrequests\u001b[0m\u001b[0;34m.\u001b[0m\u001b[0mget\u001b[0m\u001b[0;34m(\u001b[0m\u001b[0murl\u001b[0m\u001b[0;34m,\u001b[0m\u001b[0mheaders\u001b[0m\u001b[0;34m=\u001b[0m\u001b[0mheaders\u001b[0m\u001b[0;34m)\u001b[0m\u001b[0;34m\u001b[0m\u001b[0;34m\u001b[0m\u001b[0m\n\u001b[0m",
      "\u001b[0;31mNameError\u001b[0m: name 'headers' is not defined"
     ]
    }
   ],
   "source": []
  },
  {
   "cell_type": "code",
   "execution_count": 10,
   "metadata": {},
   "outputs": [],
   "source": [
    "headers = {\n",
    "    \n",
    "'Host': 'movie.douban.com',\n",
    "'Connection': 'keep-alive',\n",
    "'Upgrade-Insecure-Requests': '1',\n",
    "'User-Agent': 'Mozilla/5.0 (Macintosh; Intel Mac OS X 10_15_5) AppleWebKit/537.36 (KHTML, like Gecko) Chrome/83.0.4103.116 Safari/537.36',\n",
    "'Accept': 'text/html,application/xhtml+xml,application/xml;q=0.9,image/webp,image/apng,*/*;q=0.8,application/signed-exchange;v=b3;q=0.9',\n",
    "'Sec-Fetch-Site': 'same-origin',\n",
    "'Sec-Fetch-Mode': 'navigate',\n",
    "'Sec-Fetch-User': '?1',\n",
    "'Sec-Fetch-Dest': 'document',\n",
    "'Referer': 'https://movie.douban.com/subject/33404425/collections?start=20',\n",
    "'Accept-Encoding': 'gzip, deflate, br',\n",
    "'Accept-Language': 'zh-CN,zh;q=0.9',\n",
    "'Cookie': 'bid=qDbeSP62R7A; douban-fav-remind=1; __gads=ID=f2670ed93e066300:T=1589435604:S=ALNI_MbwigKl6h4R1JEYLMLc4ZDfmvQcJQ; ll=\"118172\"; __yadk_uid=MF8F5Zm5M7xx8MWYG2DSiYU6TA0QRuuP; _vwo_uuid_v2=DC1B9F71F5CBAE74BF37910664B9BC1DD|c741518ca5bc38294b4519c5497846d1; gr_user_id=516cd517-37ee-4855-849a-328c498316da; vtd-d=\"1\"; viewed=\"10863565_30269291\"; __utmc=30149280; _pk_ref.100001.4cf6=%5B%22%22%2C%22%22%2C1594273756%2C%22https%3A%2F%2Fwww.baidu.com%2Flink%3Furl%3DyftWZ7lEWee4Rt5YMyW8u1DKhDvHuMlpvDd6l-dtTrKoOZHv1GqJVGMq36xeObucFE6zO7KCwv0XET0yEOUSH_%26wd%3D%26eqid%3Df7cc5c45000d6167000000045f06afd6%22%5D; _pk_ses.100001.4cf6=*; __utma=30149280.571602669.1587532418.1594187189.1594273756.8; __utmb=30149280.0.10.1594273756; __utmz=30149280.1594273756.8.8.utmcsr=baidu|utmccn=(organic)|utmcmd=organic; __utma=223695111.2123824682.1592190818.1593394447.1594273756.3; __utmb=223695111.0.10.1594273756; __utmc=223695111; __utmz=223695111.1594273756.3.3.utmcsr=baidu|utmccn=(organic)|utmcmd=organic; dbcl2=\"144409788:8FWVjKqijSg\"; ck=XeUk; push_noty_num=0; push_doumail_num=0; _pk_id.100001.4cf6=3dc1eaa6568f6ff9.1592190818.3.1594273922.1593394447.',}"
   ]
  },
  {
   "cell_type": "code",
   "execution_count": 4,
   "metadata": {},
   "outputs": [],
   "source": [
    "res = requests.get(url,)\n",
    "                   #headers=headers)"
   ]
  },
  {
   "cell_type": "code",
   "execution_count": 8,
   "metadata": {},
   "outputs": [],
   "source": [
    "res.encoding = 'utf-8'"
   ]
  },
  {
   "cell_type": "code",
   "execution_count": 9,
   "metadata": {},
   "outputs": [
    {
     "data": {
      "text/plain": [
       "'try{window.STK_159460518153014&STK_159460518153014({\"code\":100000,\"data\":{\"user\":[{\"u_id\":1656565920,\"u_pic\":\"https:\\\\/\\\\/tvax4.sinaimg.cn\\\\/crop.0.0.1080.1080.50\\\\/62bd30a0ly8gbqld1fuwpj20u00u0wh3.jpg?KID=imgbed,tva&Expires=1594616422&ssig=1s%2FoWTQAzh\",\"u_name\":\"\\\\u8bbe\\\\u8ba1\\\\u5e08\\\\u5170\\\\u7389\",\"sex\":\"f\",\"is_v\":true,\"fans_n\":10902338,\"verified_type\":0,\"verified_type_ext\":0},{\"u_id\":2817803880,\"u_pic\":\"https:\\\\/\\\\/tvax3.sinaimg.cn\\\\/crop.0.0.302.302.50\\\\/a7f44668ly8fpk63s7bewj208e08e0sy.jpg?KID=imgbed,tva&Expires=1594618829&ssig=zf7rFOIVi8\",\"u_name\":\"\\\\u7cbe\\\\u88c5\\\\u5bb6\\\\u5c45\\\\u8bbe\\\\u8ba1\\\\u5e08\",\"sex\":\"m\",\"is_v\":true,\"fans_n\":8689682,\"verified_type\":0,\"verified_type_ext\":1},{\"u_id\":1233285822,\"u_pic\":\"https:\\\\/\\\\/tvax4.sinaimg.cn\\\\/crop.34.0.619.619.50\\\\/498272bely8gdimty6mwmj20j30j6js9.jpg?KID=imgbed,tva&Expires=1594591220&ssig=QAmAIPLFHa\",\"u_name\":\"\\\\u8bbe\\\\u8ba1\\\\u9752\\\\u5e74\",\"sex\":\"m\",\"is_v\":true,\"fans_n\":5313058,\"verified_type\":0,\"verified_type_ext\":1}],\"querys\":[{\"key\":\"\\\\u8bbe\\\\u8ba1\\\\u5e08\\\\u5170\\\\u7389\"},{\"key\":\"\\\\u7cbe\\\\u88c5\\\\u5bb6\\\\u5c45\\\\u8bbe\\\\u8ba1\\\\u5e08\"},{\"key\":\"\\\\u8bbe\\\\u8ba1\\\\u9752\\\\u5e74\"},{\"key\":\"\\\\u53d1\\\\u578b\\\\u8bbe\\\\u8ba1\\\\u4e0e\\\\u7f16\\\\u53d1\\\\u9020\\\\u578b\"},{\"key\":\"\\\\u8bbe\\\\u8ba1\\\\u76ee\\\\u5f55\"}],\"weiqun\":null,\"weiba\":null,\"app\":{\"pic\":\"https:\\\\/\\\\/ww1.sinaimg.cn\\\\/square\\\\/7685ac17jw1e35lyypgo3j.jpg\",\"name\":\"\\\\u8bbe\\\\u8ba1\\\\u770b\\\\u770b\",\"link\":\"http:\\\\/\\\\/app.weibo.com\\\\/detail\\\\/5u5VOJ\",\"rank\":\"\",\"owner_n\":\"1004\"},\"hots\":null},\"key\":\"159460518153013\"});}catch(e){}'"
      ]
     },
     "execution_count": 9,
     "metadata": {},
     "output_type": "execute_result"
    }
   ],
   "source": [
    "res.text"
   ]
  },
  {
   "cell_type": "code",
   "execution_count": 7,
   "metadata": {},
   "outputs": [
    {
     "ename": "AttributeError",
     "evalue": "'str' object has no attribute 'read'",
     "output_type": "error",
     "traceback": [
      "\u001b[0;31m---------------------------------------------------------------------------\u001b[0m",
      "\u001b[0;31mAttributeError\u001b[0m                            Traceback (most recent call last)",
      "\u001b[0;32m<ipython-input-7-888512167b11>\u001b[0m in \u001b[0;36m<module>\u001b[0;34m\u001b[0m\n\u001b[0;32m----> 1\u001b[0;31m \u001b[0mjd\u001b[0m \u001b[0;34m=\u001b[0m \u001b[0mjson\u001b[0m\u001b[0;34m.\u001b[0m\u001b[0mload\u001b[0m\u001b[0;34m(\u001b[0m\u001b[0mres\u001b[0m\u001b[0;34m.\u001b[0m\u001b[0mtext\u001b[0m\u001b[0;34m.\u001b[0m\u001b[0mlstrip\u001b[0m\u001b[0;34m(\u001b[0m\u001b[0;34m'try{window.STK_159460518153014&STK_159460518153014'\u001b[0m\u001b[0;34m)\u001b[0m\u001b[0;34m.\u001b[0m\u001b[0mrstrip\u001b[0m\u001b[0;34m(\u001b[0m\u001b[0;34m';}catch(e){}'\u001b[0m\u001b[0;34m)\u001b[0m\u001b[0;34m)\u001b[0m\u001b[0;34m\u001b[0m\u001b[0;34m\u001b[0m\u001b[0m\n\u001b[0m",
      "\u001b[0;32m~/opt/anaconda3/lib/python3.7/json/__init__.py\u001b[0m in \u001b[0;36mload\u001b[0;34m(fp, cls, object_hook, parse_float, parse_int, parse_constant, object_pairs_hook, **kw)\u001b[0m\n\u001b[1;32m    291\u001b[0m     \u001b[0mkwarg\u001b[0m\u001b[0;34m;\u001b[0m \u001b[0motherwise\u001b[0m\u001b[0;31m \u001b[0m\u001b[0;31m`\u001b[0m\u001b[0;31m`\u001b[0m\u001b[0mJSONDecoder\u001b[0m\u001b[0;31m`\u001b[0m\u001b[0;31m`\u001b[0m \u001b[0;32mis\u001b[0m \u001b[0mused\u001b[0m\u001b[0;34m.\u001b[0m\u001b[0;34m\u001b[0m\u001b[0;34m\u001b[0m\u001b[0m\n\u001b[1;32m    292\u001b[0m     \"\"\"\n\u001b[0;32m--> 293\u001b[0;31m     return loads(fp.read(),\n\u001b[0m\u001b[1;32m    294\u001b[0m         \u001b[0mcls\u001b[0m\u001b[0;34m=\u001b[0m\u001b[0mcls\u001b[0m\u001b[0;34m,\u001b[0m \u001b[0mobject_hook\u001b[0m\u001b[0;34m=\u001b[0m\u001b[0mobject_hook\u001b[0m\u001b[0;34m,\u001b[0m\u001b[0;34m\u001b[0m\u001b[0;34m\u001b[0m\u001b[0m\n\u001b[1;32m    295\u001b[0m         \u001b[0mparse_float\u001b[0m\u001b[0;34m=\u001b[0m\u001b[0mparse_float\u001b[0m\u001b[0;34m,\u001b[0m \u001b[0mparse_int\u001b[0m\u001b[0;34m=\u001b[0m\u001b[0mparse_int\u001b[0m\u001b[0;34m,\u001b[0m\u001b[0;34m\u001b[0m\u001b[0;34m\u001b[0m\u001b[0m\n",
      "\u001b[0;31mAttributeError\u001b[0m: 'str' object has no attribute 'read'"
     ]
    }
   ],
   "source": [
    "jd = json.load(res.text.lstrip('try{window.STK_159460518153014&STK_159460518153014').rstrip(';}catch(e){}'))"
   ]
  },
  {
   "cell_type": "code",
   "execution_count": 10,
   "metadata": {},
   "outputs": [],
   "source": [
    "def get_Research(research_Words,page):\n",
    "    params = {\n",
    "        'q': research_Words,\n",
    "        'Refer': 'index',\n",
    "        'page': str(page)\n",
    "    }\n",
    "    url = 'https://s.weibo.com/weibo?' + urlencode(params)\n",
    "    #print(url)\n",
    "    # print(urlencode(params))\n",
    "\n",
    "    try:\n",
    "        response = requests.get(url)\n",
    "        if response.status_code == 200:\n",
    "            return response.text\n",
    "    except requests.ConnectionError:\n",
    "        return None\n"
   ]
  },
  {
   "cell_type": "code",
   "execution_count": 11,
   "metadata": {},
   "outputs": [
    {
     "ename": "NameError",
     "evalue": "name 'urlencode' is not defined",
     "output_type": "error",
     "traceback": [
      "\u001b[0;31m---------------------------------------------------------------------------\u001b[0m",
      "\u001b[0;31mNameError\u001b[0m                                 Traceback (most recent call last)",
      "\u001b[0;32m<ipython-input-11-8618f00fc14e>\u001b[0m in \u001b[0;36m<module>\u001b[0;34m\u001b[0m\n\u001b[0;32m----> 1\u001b[0;31m \u001b[0mget_Research\u001b[0m\u001b[0;34m(\u001b[0m\u001b[0;34m'设计'\u001b[0m\u001b[0;34m,\u001b[0m\u001b[0;36m1\u001b[0m\u001b[0;34m)\u001b[0m\u001b[0;34m\u001b[0m\u001b[0;34m\u001b[0m\u001b[0m\n\u001b[0m",
      "\u001b[0;32m<ipython-input-10-bec628d756c4>\u001b[0m in \u001b[0;36mget_Research\u001b[0;34m(research_Words, page)\u001b[0m\n\u001b[1;32m      5\u001b[0m         \u001b[0;34m'page'\u001b[0m\u001b[0;34m:\u001b[0m \u001b[0mstr\u001b[0m\u001b[0;34m(\u001b[0m\u001b[0mpage\u001b[0m\u001b[0;34m)\u001b[0m\u001b[0;34m\u001b[0m\u001b[0;34m\u001b[0m\u001b[0m\n\u001b[1;32m      6\u001b[0m     }\n\u001b[0;32m----> 7\u001b[0;31m     \u001b[0murl\u001b[0m \u001b[0;34m=\u001b[0m \u001b[0;34m'https://s.weibo.com/weibo?'\u001b[0m \u001b[0;34m+\u001b[0m \u001b[0murlencode\u001b[0m\u001b[0;34m(\u001b[0m\u001b[0mparams\u001b[0m\u001b[0;34m)\u001b[0m\u001b[0;34m\u001b[0m\u001b[0;34m\u001b[0m\u001b[0m\n\u001b[0m\u001b[1;32m      8\u001b[0m     \u001b[0;31m#print(url)\u001b[0m\u001b[0;34m\u001b[0m\u001b[0;34m\u001b[0m\u001b[0;34m\u001b[0m\u001b[0m\n\u001b[1;32m      9\u001b[0m     \u001b[0;31m# print(urlencode(params))\u001b[0m\u001b[0;34m\u001b[0m\u001b[0;34m\u001b[0m\u001b[0;34m\u001b[0m\u001b[0m\n",
      "\u001b[0;31mNameError\u001b[0m: name 'urlencode' is not defined"
     ]
    }
   ],
   "source": [
    "get_Research('设计',1)"
   ]
  },
  {
   "cell_type": "code",
   "execution_count": null,
   "metadata": {},
   "outputs": [],
   "source": []
  }
 ],
 "metadata": {
  "kernelspec": {
   "display_name": "Python 3",
   "language": "python",
   "name": "python3"
  },
  "language_info": {
   "codemirror_mode": {
    "name": "ipython",
    "version": 3
   },
   "file_extension": ".py",
   "mimetype": "text/x-python",
   "name": "python",
   "nbconvert_exporter": "python",
   "pygments_lexer": "ipython3",
   "version": "3.7.4"
  }
 },
 "nbformat": 4,
 "nbformat_minor": 2
}
