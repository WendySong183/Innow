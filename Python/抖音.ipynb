{
 "cells": [
  {
   "cell_type": "code",
   "execution_count": 1,
   "metadata": {},
   "outputs": [],
   "source": [
    "from bs4 import BeautifulSoup\n",
    "import requests\n",
    "import os\n",
    "import json\n",
    "from datetime import datetime\n",
    "import pandas as pd\n",
    "import time"
   ]
  },
  {
   "cell_type": "code",
   "execution_count": 2,
   "metadata": {},
   "outputs": [],
   "source": [
    "def get_links(linkid):\n",
    "    url = 'https://creator.douyin.com/aweme/v1/creator/data/billboard/?billboard_type={}'.format(linkid)\n",
    "    headers = {\n",
    "    \"user-agent\":'Mozilla/5.0 (Macintosh; Intel Mac OS X 10_15_5) AppleWebKit/537.36 (KHTML, like Gecko) Chrome/84.0.4147.105 Safari/537.36',\n",
    "    \"referer\": \"https://creator.douyin.com/billboard/cospa\",\n",
    "    'cookie':'_ga=GA1.2.1938423050.1597024815; d_ticket=0d8b5fef3aea676d0ad256d5a5a726ebb62db; odin_tt=832a78d8fb224cde4e3b29083bb9d629a9d2035d0f93f4058a9254223ea9bb7c9363c5a7ad28c2272fb7d90a801cbaa43e022f7f58faac0e4558a144de98bd80; sso_auth_status=25825d5315ce5ead854c98d1ea88c0af; sso_uid_tt=f7a35377fab4bbc97056124faafe48c3; sso_uid_tt_ss=f7a35377fab4bbc97056124faafe48c3; toutiao_sso_user=bf4312b94c7a7915ec05d2afb9fb285b; toutiao_sso_user_ss=bf4312b94c7a7915ec05d2afb9fb285b; passport_auth_status=15fe28679d6c2912da15adb0e6774005%2C1483ed1c6c88bb058e09d1b9a7caa3a7; sid_guard=8df62649be631884e1f8903398951346%7C1597025814%7C5184000%7CFri%2C+09-Oct-2020+02%3A16%3A54+GMT; uid_tt=2cd5e764a8209c695b5a94a4d770cdf3; uid_tt_ss=2cd5e764a8209c695b5a94a4d770cdf3; sid_tt=8df62649be631884e1f8903398951346; sessionid=8df62649be631884e1f8903398951346; sessionid_ss=8df62649be631884e1f8903398951346; oc_login_type=LOGIN_PERSON; ttcid=fcf935b62445474db5091593aa47d49240; ttwid=1%7C7WhZn9m20ZB82DRKrHaj3mfuyzqPAVdzIIOBi0szxCI%7C1598250217%7Cd0c65d079cf40740f062332fae04ce239df8fab8e5d33249efcfa8e7fb8bdb00; SLARDAR_WEB_ID=101745134664; s_v_web_id=kerumeq3_stKJRSEj_WhLX_4hpx_82an_ZQp3XqZNfYGp; MONITOR_WEB_ID=e24bd4ff-4d24-4d04-8239-a70fd3716f28; csrf_token=TZdBjBTtFHJhUIUXCrFoZHmpGYqcudrh; tt_scid=dTWA23pbU2kd8E3KtzF7En7hkancGgH6l5lxfSkICFXb5PziEn3r3r3kqy0IrR6h1359'\n",
    "    }\n",
    "    res = requests.get(url,headers=headers)\n",
    "    jd=json.loads(res.text)['billboard_data']\n",
    "    \n",
    "    newsdetails=[]\n",
    "    for ent in jd :\n",
    "        newsdetails.append(get_detail(ent,linkid))\n",
    "        \n",
    "    return newsdetails"
   ]
  },
  {
   "cell_type": "code",
   "execution_count": 8,
   "metadata": {},
   "outputs": [],
   "source": [
    "def get_detail(jd,linkid):\n",
    "    result={}\n",
    "    result['用户名']=jd['title']#标题\n",
    "    result['影响力']=str(int(jd['value'])/10000)+'w'#影响力\n",
    "    result['排名']=jd['rank']#排名\n",
    "    result['粉丝数']=str(int(jd['map_list'][0]['value'])/10000)+'w'#粉丝数\n",
    "    result['近一月上榜次数']=jd['map_list'][1]['value']#近一月上榜次数\n",
    "    result['上周排名']=jd['map_list'][2]['value']#上周排名\n",
    "    result['分类']=linkid#分类\n",
    "    result['链接']=jd['link']#链接\n",
    "    now = datetime.now().strftime('%Y-%m-%d')\n",
    "    result['时间']=now\n",
    "    return result\n"
   ]
  },
  {
   "cell_type": "code",
   "execution_count": 9,
   "metadata": {},
   "outputs": [],
   "source": [
    "def main():\n",
    "    news_total = []\n",
    "    for i in range(61,68):\n",
    "        news_total.extend(get_links(i))\n",
    "        \n",
    "    df = pd.DataFrame(news_total)\n",
    "    \n",
    "    \n",
    "    now = datetime.now().strftime('%m%d_%H%M%S')\n",
    "    newsname = 'dy'+now+'.xlsx'\n",
    "    df.to_excel(newsname)"
   ]
  },
  {
   "cell_type": "code",
   "execution_count": 10,
   "metadata": {},
   "outputs": [],
   "source": [
    "if __name__ == '__main__':\n",
    "    main()"
   ]
  },
  {
   "cell_type": "code",
   "execution_count": null,
   "metadata": {},
   "outputs": [],
   "source": []
  }
 ],
 "metadata": {
  "kernelspec": {
   "display_name": "Python 3",
   "language": "python",
   "name": "python3"
  },
  "language_info": {
   "codemirror_mode": {
    "name": "ipython",
    "version": 3
   },
   "file_extension": ".py",
   "mimetype": "text/x-python",
   "name": "python",
   "nbconvert_exporter": "python",
   "pygments_lexer": "ipython3",
   "version": "3.7.4"
  }
 },
 "nbformat": 4,
 "nbformat_minor": 2
}
